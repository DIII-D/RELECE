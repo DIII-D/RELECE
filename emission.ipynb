{
 "cells": [
  {
   "cell_type": "code",
   "execution_count": null,
   "id": "8fc78900",
   "metadata": {},
   "outputs": [],
   "source": [
    "import numpy as np\n",
    "from scipy import constants, special\n",
    "import matplotlib.pyplot as plt"
   ]
  },
  {
   "cell_type": "markdown",
   "id": "c9806878",
   "metadata": {},
   "source": [
    "# ECE emission calculator\n",
    "Electron cyclotron emission (ECE) is the phenomenon of radiation from gyrating electrons. In devices like DIII-D, ECE is exploited to measure the temperature profile of the plasma."
   ]
  },
  {
   "cell_type": "code",
   "execution_count": null,
   "id": "6484a915",
   "metadata": {},
   "outputs": [
    {
     "name": "stdout",
     "output_type": "stream",
     "text": [
      "40000000000.0\n",
      "40153800827.319786\n"
     ]
    }
   ],
   "source": [
    "# Experimental parameters\n",
    "f = 90e9                    # EM wave frequency (Hz)\n",
    "ne = 2e19                   # Electron number density (per m^3)\n",
    "fce = 50e9                  # Cyclotron frequency (Hz)\n",
    "Te = 3000                   # Electron temperature (eV)\n",
    "N = 0.874\n",
    "n = 2                       # ECE harmonic\n",
    "x_mode = True               # X or O mode\n",
    "theta = np.pi / 2           # Viewing angle\n",
    "res_ellipse_N = 1000        # Number of points on resonant ellipse\n",
    "\n",
    "\n",
    "# Generated values\n",
    "w = 2*np.pi * f\n",
    "wpe = np.sqrt(ne * constants.e**2\n",
    "              / (constants.m_e*constants.epsilon_0))  # Plasma frequency (rad/s)\n",
    "wce = 2*np.pi * fce\n",
    "wr = wce / 2 * (1 + np.sqrt(1 + 4 * wpe**2/wce**2))  # Right-hand cutoff (rad/s)"
   ]
  }
 ],
 "metadata": {
  "kernelspec": {
   "display_name": "Python 3",
   "language": "python",
   "name": "python3"
  },
  "language_info": {
   "codemirror_mode": {
    "name": "ipython",
    "version": 3
   },
   "file_extension": ".py",
   "mimetype": "text/x-python",
   "name": "python",
   "nbconvert_exporter": "python",
   "pygments_lexer": "ipython3",
   "version": "3.11.4"
  }
 },
 "nbformat": 4,
 "nbformat_minor": 5
}
